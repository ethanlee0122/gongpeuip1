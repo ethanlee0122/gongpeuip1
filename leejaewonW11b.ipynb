{
  "nbformat": 4,
  "nbformat_minor": 0,
  "metadata": {
    "colab": {
      "provenance": [],
      "mount_file_id": "14KPFBAebwF19vzzp0tx8Uq9ef9fLlazI",
      "authorship_tag": "ABX9TyOOK5PRGWdBe1a6Md6dwdk7",
      "include_colab_link": true
    },
    "kernelspec": {
      "name": "python3",
      "display_name": "Python 3"
    },
    "language_info": {
      "name": "python"
    }
  },
  "cells": [
    {
      "cell_type": "markdown",
      "metadata": {
        "id": "view-in-github",
        "colab_type": "text"
      },
      "source": [
        "<a href=\"https://colab.research.google.com/github/ethanlee0122/gongpeuip1/blob/main/leejaewonW11b.ipynb\" target=\"_parent\"><img src=\"https://colab.research.google.com/assets/colab-badge.svg\" alt=\"Open In Colab\"/></a>"
      ]
    },
    {
      "cell_type": "code",
      "source": [
        "import os\n",
        "os.getcwd()"
      ],
      "metadata": {
        "colab": {
          "base_uri": "https://localhost:8080/",
          "height": 35
        },
        "id": "0qh3VIrUtXie",
        "outputId": "5ddcdad6-3784-40a1-fb74-06a4f0401601"
      },
      "execution_count": 2,
      "outputs": [
        {
          "output_type": "execute_result",
          "data": {
            "text/plain": [
              "'/content'"
            ],
            "application/vnd.google.colaboratory.intrinsic+json": {
              "type": "string"
            }
          },
          "metadata": {},
          "execution_count": 2
        }
      ]
    },
    {
      "cell_type": "code",
      "source": [
        "os.chdir('/content/drive/MyDrive/WD')"
      ],
      "metadata": {
        "id": "gJsuYfCnv8js"
      },
      "execution_count": 3,
      "outputs": []
    },
    {
      "cell_type": "code",
      "source": [
        "os.getcwd()"
      ],
      "metadata": {
        "colab": {
          "base_uri": "https://localhost:8080/",
          "height": 35
        },
        "id": "IgCde0fSwBSt",
        "outputId": "64b5e74b-d624-45d3-972a-0f665b19fb35"
      },
      "execution_count": 4,
      "outputs": [
        {
          "output_type": "execute_result",
          "data": {
            "text/plain": [
              "'/content/drive/MyDrive/WD'"
            ],
            "application/vnd.google.colaboratory.intrinsic+json": {
              "type": "string"
            }
          },
          "metadata": {},
          "execution_count": 4
        }
      ]
    },
    {
      "cell_type": "code",
      "source": [
        "!python memo.py -a 'Life is too short'"
      ],
      "metadata": {
        "colab": {
          "base_uri": "https://localhost:8080/"
        },
        "id": "OiFK0hyLwo8W",
        "outputId": "8e2acd69-5310-42b1-fff0-62418015464a"
      },
      "execution_count": 5,
      "outputs": [
        {
          "output_type": "stream",
          "name": "stdout",
          "text": [
            "-a\n",
            "Life is too short\n"
          ]
        }
      ]
    },
    {
      "cell_type": "code",
      "source": [
        "!python memo.py -a \"Life is too short\""
      ],
      "metadata": {
        "colab": {
          "base_uri": "https://localhost:8080/"
        },
        "id": "k8iOxUSsy5tI",
        "outputId": "fa02b175-03fb-4892-cd38-2e165a7a0da0"
      },
      "execution_count": 6,
      "outputs": [
        {
          "output_type": "stream",
          "name": "stdout",
          "text": [
            "-a\n",
            "Life is too short\n"
          ]
        }
      ]
    },
    {
      "cell_type": "code",
      "source": [
        "!python memo.py -a \"You need python\""
      ],
      "metadata": {
        "colab": {
          "base_uri": "https://localhost:8080/"
        },
        "id": "nNLBD5_KzwhH",
        "outputId": "0b7418b6-3eaa-4591-bc34-e9e9c8e654da"
      },
      "execution_count": 7,
      "outputs": [
        {
          "output_type": "stream",
          "name": "stdout",
          "text": [
            "-a\n",
            "You need python\n"
          ]
        }
      ]
    },
    {
      "cell_type": "code",
      "source": [
        "!type memo.txt"
      ],
      "metadata": {
        "colab": {
          "base_uri": "https://localhost:8080/"
        },
        "id": "DtKXjcy4z5kT",
        "outputId": "d513f8bd-7579-4632-e56a-50f430e3384d"
      },
      "execution_count": 8,
      "outputs": [
        {
          "output_type": "stream",
          "name": "stdout",
          "text": [
            "/bin/bash: line 1: type: memo.txt: not found\n"
          ]
        }
      ]
    },
    {
      "cell_type": "code",
      "source": [
        "!python tabto4.py a.txt b.txt"
      ],
      "metadata": {
        "colab": {
          "base_uri": "https://localhost:8080/"
        },
        "id": "p-Rkyraa1P7j",
        "outputId": "fd6b4c3e-cf20-4e9d-a202-cc445a1992ac"
      },
      "execution_count": 10,
      "outputs": [
        {
          "output_type": "stream",
          "name": "stdout",
          "text": [
            "a.txt\n",
            "b.txt\n"
          ]
        }
      ]
    },
    {
      "cell_type": "code",
      "source": [
        "!python tabto4.py a.txt b.txt"
      ],
      "metadata": {
        "colab": {
          "base_uri": "https://localhost:8080/"
        },
        "id": "NGLMbiza2lHc",
        "outputId": "39da0d31-f4b5-4fcd-f9c8-2ce0d937f194"
      },
      "execution_count": 11,
      "outputs": [
        {
          "output_type": "stream",
          "name": "stdout",
          "text": [
            "a.txt\n",
            "b.txt\n",
            "Traceback (most recent call last):\n",
            "  File \"/content/drive/MyDrive/WD/tabto4.py\", line 15, in <module>\n",
            "    f = open(src)\n",
            "FileNotFoundError: [Errno 2] No such file or directory: 'a.txt'\n"
          ]
        }
      ]
    }
  ]
}